{
 "metadata": {
  "name": ""
 },
 "nbformat": 3,
 "nbformat_minor": 0,
 "worksheets": [
  {
   "cells": [
    {
     "cell_type": "markdown",
     "metadata": {},
     "source": [
      "# Telegram: goto fail (twice)\n",
      "\n",
      "Probably everyone know that few days ago [Facebook](https://www.facebook.com) acquired [WhatsApp](http://www.whatsapp.com/) for the astonishing price of 19 billion dollars. Anyway that's not the point of this post. The problem here is the inherent privacy problem that this acquisition involves. Online there are tons of people that are concerned for their privacy and they are looking for possible instant messagging alternatives which are encrypted and privacy aware. Probably the one which is receiving more attention is [Telegram](https://telegram.org/).\n",
      "\n",
      "I gave a quick read about [protocol specification](https://core.telegram.org/techfaq) and tried to understand how [OTR](http://en.wikipedia.org/wiki/Off-the-Record_Messaging) messaging is implemented to offer end to end encryption and [Perfect Forward Secrecy](http://en.wikipedia.org/wiki/Forward_secrecy). I am not an expert in cryptography but here's what I understand from a quick read of the protocol:\n",
      "\n",
      "- It is not a zero knowledge architecture. In telegram you have to trust someone, and that someone is the Telegram server\n",
      "- Chats and group chats are not encrypted end-to-end. What I mean here is that, although the message exchange between you and server is adequately encrypted, the server has still to decrypt (and possibly read/store/analyze your incoming messages) before relaying to the final recipient(s).\n",
      "- Secret chats seems to be implementing OTR and secure key exchange through Diffie Hellman algorithm, but Diffie Hellman do not provide authentication by default so it is vulnerable to MITM attacks. It is theoretically possible that the server can be your Mallory here and can intercept every single message being exchanged between you (Alice) and your bestest friend Bob.\n",
      "- Perfect Forward Secrecy is said to be implemented but it is not. If you want PFS you simply have to create another Secret Chat. Cool.\n",
      "\n",
      "What a bummer! **EDIT:** *Apparently I am not the only one who thinks that the entire protocol and trust the server approach is flawed. Take a look at this [blog post](http://unhandledexpression.com/2013/12/17/telegram-stand-back-we-know-maths/) that explains every point in detail.*\n",
      "\n",
      "I looked around to check whether creating a zero-knowledge architecture can be built to support multy party OTR. The first place I looked was Wikipedia that explicitly says:\n",
      "\n",
      "> Due to limitations of the protocol, OTR does not support multi-user group chat as of 2009 but may be implemented in the future.\n",
      "\n",
      "So I started searching for existing literature in this field using Google Scholar. I found several papers trying to solve the problem (see [Goldberg et al.](http://dl.acm.org/citation.cfm?id=1653705) and [Liu et al.](http://dl.acm.org/citation.cfm?id=2517867)). But since I am not an expert in cryptography I started looking for something lighter to read. I discovered that the problem was actually solved (I guess, but please correct me if I am wrong) by the guys behind [Syme](https://getsyme.com/), a *zero-knowledge key architecture and encrypted messaging platform*. You can find the white paper of their architecture [here](https://github.com/symeapp/syme). Starting from their premises I decided to implement a demo app in Python implementing multiparty OTR.\n",
      "\n",
      "I am gonna be using `pyelliptic`, `pbkdf2` and `srp`. The first package is a really cool binding to OpenSSL, but be sure to have an up to date version otherwise you will encounter in some trouble. If you are a Mac OS user I suggest you to install an updated version of openssl using `brew install openssl`. Then you can safely use `DYLD_LIBRARY_PATH=/usr/local/Cellar/openssl/1.0.1f/lib` prior to python invokation, as I explain in this Github [issue](https://github.com/yann2192/pyelliptic/issues/11). The second package (`pbkdf2`) provides the password-based key derivation function, [PBKDF2](http://en.wikipedia.org/wiki/PBKDF2). The latter implemetnts the [Secure Remote Password protocol](http://en.wikipedia.org/wiki/Secure_Remote_Password_protocol) (SRP), a cryptographically strong authentication protocol for password-based over an insecure network connection. You can easilly install the two dependecies with the usual `pip install <packagename>`.\n",
      "\n",
      "You can find the code of this [demo](https://github.com/nopper/secure-chat-demo) on GitHub. I am not going to do a step by step explanation of the code but rather explain what it happens from an high level perspective. First we import all the libraries:"
     ]
    },
    {
     "cell_type": "code",
     "collapsed": false,
     "input": [
      "import json\n",
      "import pbkdf2\n",
      "from srp import _pysrp as srp\n",
      "import pyelliptic"
     ],
     "language": "python",
     "metadata": {},
     "outputs": [],
     "prompt_number": 1
    },
    {
     "cell_type": "markdown",
     "metadata": {},
     "source": [
      "We then define an helper class for dealing with [AES](http://en.wikipedia.org/wiki/Advanced_Encryption_Standard)-[CFB](http://en.wikipedia.org/wiki/Block_cipher_modes_of_operation#Cipher_feedback_.28CFB.29) (256 bit key) encryption/decription of texts."
     ]
    },
    {
     "cell_type": "code",
     "collapsed": false,
     "input": [
      "class AESCipher(object):\n",
      "    def __init__(self, key):\n",
      "        self.key = key\n",
      "\n",
      "    def pad(self, s):\n",
      "        BS = 16\n",
      "        return s + (BS - len(s) % BS) * chr(BS - len(s) % BS) \n",
      "\n",
      "    def unpad(self, s):\n",
      "        return s[0:-ord(s[-1])]\n",
      "\n",
      "    def encrypt(self, raw):\n",
      "        raw = self.pad(raw)\n",
      "        iv = pyelliptic.Cipher.gen_IV('aes-256-cfb')\n",
      "        ctx = pyelliptic.Cipher(self.key, iv, 1, ciphername='aes-256-cfb')\n",
      "        ciphertext = ctx.update(raw)\n",
      "        ciphertext += ctx.final()\n",
      "        return (iv + ciphertext).encode(\"hex\")\n",
      "\n",
      "    def decrypt(self, enc):\n",
      "        enc = enc.decode(\"hex\")\n",
      "        (iv, enc) = enc[:16], enc[16:]\n",
      "        ctx = pyelliptic.Cipher(self.key, iv, 0, ciphername='aes-256-cfb')\n",
      "        return self.unpad(ctx.ciphering(enc))"
     ],
     "language": "python",
     "metadata": {},
     "outputs": [],
     "prompt_number": 2
    },
    {
     "cell_type": "markdown",
     "metadata": {},
     "source": [
      "We then define a class for our zero-knowledge server, as in Syme whitepaper. The server will just stores a salt and a verification key for each user (SRP protocol) and can additionally store the keychain of each user (encrypted with the other `initialization_key` of the client), if the user is willing to do so."
     ]
    },
    {
     "cell_type": "code",
     "collapsed": false,
     "input": [
      "class Server(object):\n",
      "    def __init__(self):\n",
      "        self.users = {}\n",
      "        self.verifiers = {}\n",
      "        self.storage = {}\n",
      "\n",
      "    def auth_request(self, username, A):\n",
      "        salt, vkey = self.users[username]\n",
      "\n",
      "        verifier = srp.Verifier(username, salt, vkey, A)\n",
      "        s, B = verifier.get_challenge()\n",
      "\n",
      "        self.verifiers[username] = verifier\n",
      "\n",
      "        return s, B\n",
      "\n",
      "    def verify_session(self, username, M):\n",
      "        HAMK = self.verifiers[username].verify_session(M)\n",
      "\n",
      "        if HAMK is None:\n",
      "            raise srp.AuthenticationFailed()\n",
      "\n",
      "        return HAMK\n",
      "\n",
      "    def store(self, username, **kwargs):\n",
      "        self.storage[username] = kwargs\n",
      "        print \"Stored %s for %s\" % (', '.join(kwargs.keys()), username)\n"
     ],
     "language": "python",
     "metadata": {},
     "outputs": [],
     "prompt_number": 3
    },
    {
     "cell_type": "markdown",
     "metadata": {},
     "source": [
      "We then define `User` object representing the user that tries to register to the `Server` and communicates with other peers through the use of `send_message` primitive. Here we assume the server to correctly deliver ECC public keys. MITM attack is possible if the server is acting as a rouge server. In order to solve this problem the exchange of keys can be executed offline. In this case *Alice* and *Bob* will set up an appointment in the public park to exchange their public keys. Another approach is using the [Socialist Millionaire problem](http://en.wikipedia.org/wiki/Socialist_millionaire) (funny name) as in Section 2.3.5 of [A User Study of Off-the-Record Messaging\n",
      "](http://www.cypherpunks.ca/~iang/pubs/otr_userstudy.pdf).\n",
      "\n",
      "Creating a group chat (2 or more peers) involves the creation of new ECC key pairs for each peer. In this way it is possible to easilly implement forward secrecy. For example, every day the peers can decide to generate new key pairs."
     ]
    },
    {
     "cell_type": "code",
     "collapsed": false,
     "input": [
      "def create_verification_key(user, salt):\n",
      "    hash_class = user.hash_class\n",
      "    return srp.long_to_bytes(pow(user.g, srp.gen_x(hash_class, salt, user.I, user.p), user.N))\n",
      "\n",
      "class User(object):\n",
      "    def __init__(self, username, password):\n",
      "        self.username = username\n",
      "        self.salt = srp.long_to_bytes(srp.get_random(16))\n",
      "\n",
      "        key = pbkdf2.PBKDF2(password, self.salt).read(64)\n",
      "        self.authentication_key, self.initialization_key = (key[:32], key[32:])\n",
      "\n",
      "        self.cipher = AESCipher(self.initialization_key)\n",
      "        self.ecc_key = pyelliptic.ECC()\n",
      "\n",
      "        self.keychain = {\n",
      "            self.username: self.ecc_key.get_pubkey(),\n",
      "        }\n",
      "\n",
      "        self.ecc_group_key = {}\n",
      "        self.group_keys = {}\n",
      "\n",
      "    def get_srp_user(self):\n",
      "        username = self.username\n",
      "        password = self.initialization_key\n",
      "        return srp.User(username, password)\n",
      "\n",
      "    def register(self, server):\n",
      "        assert self.username not in server.users, \"%s already registered\" % self.username\n",
      "\n",
      "        salt = self.salt\n",
      "        user = self.get_srp_user()\n",
      "\n",
      "        server.users[self.username] = (salt, create_verification_key(user, salt))\n",
      "\n",
      "    def login(self, server):\n",
      "        user = self.get_srp_user()\n",
      "        username, A = user.start_authentication()\n",
      "\n",
      "        # We send username and A to the server and obtain a challenge\n",
      "        s, B = server.auth_request(username, A)\n",
      "        M = user.process_challenge(s, B)\n",
      "\n",
      "        if M is None:\n",
      "            raise srp.AuthenticationFailed()\n",
      "\n",
      "        # Send M to the verifier\n",
      "        HAMK = server.verify_session(username, M)\n",
      "        user.verify_session(HAMK)\n",
      "\n",
      "        if user.authenticated():\n",
      "            print \"Successfully logged in\"\n",
      "\n",
      "            encrypted = self.cipher.encrypt(self.ecc_key.get_pubkey())\n",
      "\n",
      "            server.store(username, mykey=encrypted)\n",
      "\n",
      "    def create_group(self, name, users):\n",
      "        # Now every other user will generate a pub/key pair\n",
      "        for user in users:\n",
      "            user.ecc_group_key[name] = pyelliptic.ECC()\n",
      "            user.group_keys[name] = {\n",
      "                user.username: user.ecc_group_key[name].get_pubkey()\n",
      "            }\n",
      "\n",
      "        for source in users:\n",
      "            for dest in users:\n",
      "                if source != dest:\n",
      "                    source.group_keys[name][dest.username] = dest.ecc_group_key[name].get_pubkey()\n",
      "\n",
      "\n",
      "    def send_message(self, name, message):\n",
      "        session_key = pyelliptic.OpenSSL.rand(32)\n",
      "        ekeys = []\n",
      "\n",
      "        for username, pubkey in self.group_keys[name].items():\n",
      "            ecc_key = self.ecc_group_key[name]\n",
      "            ekeys.append(ecc_key.encrypt(session_key, pubkey).encode('hex'))\n",
      "\n",
      "        c = AESCipher(session_key)\n",
      "        emessage = c.encrypt(message)\n",
      "\n",
      "        encoded = json.dumps({\n",
      "            'group': name,\n",
      "            'message': emessage,\n",
      "            'keys': ekeys,\n",
      "        })\n",
      "\n",
      "        return Message(self.username, self.ecc_key.sign(encoded), encoded)\n"
     ],
     "language": "python",
     "metadata": {},
     "outputs": [],
     "prompt_number": 4
    },
    {
     "cell_type": "markdown",
     "metadata": {},
     "source": [
      "The last piece missing is the `Message` class representing the message being exchanged between peers:"
     ]
    },
    {
     "cell_type": "code",
     "collapsed": false,
     "input": [
      "class Message(object):\n",
      "    def __init__(self, source, signature, encoded):\n",
      "        self.source = source\n",
      "        self.signature = signature\n",
      "        self.encoded = encoded\n",
      "\n",
      "    def verify(self, user):\n",
      "        pubkey_source = user.keychain[self.source]\n",
      "        return pyelliptic.ECC(pubkey=pubkey_source).verify(self.signature, self.encoded)\n",
      "\n",
      "    def read(self, user):\n",
      "        decoded = json.loads(self.encoded)\n",
      "        ecc_key = user.ecc_group_key[decoded['group']]\n",
      "\n",
      "        for key in decoded['keys']:\n",
      "            try:\n",
      "                session_key = ecc_key.decrypt(key.decode('hex'))\n",
      "                c = AESCipher(session_key)\n",
      "                print \"%s received: %s\" % (user.username, c.decrypt(decoded['message']))\n",
      "                return\n",
      "            except:\n",
      "                print \"Trying next key\""
     ],
     "language": "python",
     "metadata": {},
     "outputs": [],
     "prompt_number": 5
    },
    {
     "cell_type": "markdown",
     "metadata": {},
     "source": [
      "Now you can try to play the secure chat game easilly:"
     ]
    },
    {
     "cell_type": "code",
     "collapsed": false,
     "input": [
      "server = Server()\n",
      "\n",
      "alice = User(\"Alice\", \"hello\")\n",
      "alice.register(server)\n",
      "alice.login(server)\n",
      "\n",
      "bob = User(\"Bob\", \"hello\")\n",
      "bob.register(server)\n",
      "bob.login(server)\n",
      "\n",
      "alice.create_group('#lmv', (alice, bob))\n",
      "message = alice.send_message('#lmv', 'Hello there')\n",
      "\n",
      "message.read(bob)\n",
      "message.read(alice)"
     ],
     "language": "python",
     "metadata": {},
     "outputs": [
      {
       "output_type": "stream",
       "stream": "stdout",
       "text": [
        "Successfully logged in\n",
        "Stored mykey for Alice\n",
        "Successfully logged in"
       ]
      },
      {
       "output_type": "stream",
       "stream": "stdout",
       "text": [
        "\n",
        "Stored mykey for Bob\n",
        "Bob received: Hello there\n",
        "Trying next key\n",
        "Alice received: Hello there\n"
       ]
      }
     ],
     "prompt_number": 7
    },
    {
     "cell_type": "markdown",
     "metadata": {},
     "source": [
      "**DISCLAIMER:** This entire protocol might be wrong and flawed. I am not a cryptographer so use the information of this blog post at your own discretion and risk.\n",
      "\n",
      "*PS: for those of you who understand the reference yes the title of this post referes to the Apple bug in SSL stack. If you are intereseted in reading more about it, check out [this link](http://www.msuiche.net/2014/02/22/sslverifysignedserverkeyexchange-a-k-a-the-goto-epicfail-bug/).*"
     ]
    },
    {
     "cell_type": "code",
     "collapsed": false,
     "input": [],
     "language": "python",
     "metadata": {},
     "outputs": []
    }
   ],
   "metadata": {}
  }
 ]
}